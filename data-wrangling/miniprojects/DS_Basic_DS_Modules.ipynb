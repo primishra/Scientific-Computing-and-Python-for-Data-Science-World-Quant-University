{
 "cells": [
  {
   "cell_type": "code",
   "execution_count": 39,
   "metadata": {
    "init_cell": true
   },
   "outputs": [],
   "source": [
    "%logstop\n",
    "%logstart -rtq ~/.logs/DS_Basic_DS_Modules.py append\n",
    "%matplotlib inline\n",
    "import matplotlib\n",
    "import seaborn as sns\n",
    "sns.set()\n",
    "matplotlib.rcParams['figure.dpi'] = 144"
   ]
  },
  {
   "cell_type": "code",
   "execution_count": 3,
   "metadata": {},
   "outputs": [],
   "source": [
    "import expectexception"
   ]
  },
  {
   "cell_type": "markdown",
   "metadata": {},
   "source": [
    "# Basic data tools: NumPy, Matplotlib, Pandas\n",
    "\n",
    "Python is a powerful and flexible programming language, but it doesn't have built-in tools for mathematical analysis or data visualization. For most data analysis we will rely on some helpful libraries. We'll explore three libraries that are very common for data analysis and visualization."
   ]
  },
  {
   "cell_type": "markdown",
   "metadata": {},
   "source": [
    "## NumPy\n",
    "\n",
    "First among these is NumPy. The main NumPy features are three-fold: its mathematical functions (e.g. `sin`, `log`, `floor`), its `random` submodule (useful for random sampling), and the NumPy `ndarray` object.\n",
    "\n",
    "A NumPy array is similar to a mathematical n-dimensional matrix. For example, \n",
    "\n",
    "$$\\begin{bmatrix}\n",
    "    x_{11} & x_{12} & x_{13} & \\dots  & x_{1n} \\\\\n",
    "    x_{21} & x_{22} & x_{23} & \\dots  & x_{2n} \\\\\n",
    "    \\vdots & \\vdots & \\vdots & \\ddots & \\vdots \\\\\n",
    "    x_{d1} & x_{d2} & x_{d3} & \\dots  & x_{dn}\n",
    "\\end{bmatrix}$$\n",
    "\n",
    "A NumPy array could be 1-dimensional (e.g. [1, 5, 20, 34, ...]), 2-dimensional (as above), or many dimensions. It's important to note that all the rows and columns of the 2-dimensional array are the same length. That will be true for all dimensions of arrays.\n",
    "\n",
    "Let's contrast this with lists."
   ]
  },
  {
   "cell_type": "code",
   "execution_count": 4,
   "metadata": {},
   "outputs": [],
   "source": [
    "# to access NumPy, we have to import it\n",
    "import numpy as np"
   ]
  },
  {
   "cell_type": "code",
   "execution_count": 5,
   "metadata": {},
   "outputs": [
    {
     "name": "stdout",
     "output_type": "stream",
     "text": [
      "[[1, 2, 3], [4, 5, 6], [7, 8, 9]]\n"
     ]
    }
   ],
   "source": [
    "list_of_lists = [[1, 2, 3], [4, 5, 6], [7, 8, 9]]\n",
    "print(list_of_lists)"
   ]
  },
  {
   "cell_type": "code",
   "execution_count": 6,
   "metadata": {},
   "outputs": [
    {
     "name": "stdout",
     "output_type": "stream",
     "text": [
      "[[1 2 3]\n",
      " [4 5 6]\n",
      " [7 8 9]]\n"
     ]
    }
   ],
   "source": [
    "an_array = np.array(list_of_lists)\n",
    "print(an_array)"
   ]
  },
  {
   "cell_type": "code",
   "execution_count": 7,
   "metadata": {},
   "outputs": [
    {
     "name": "stdout",
     "output_type": "stream",
     "text": [
      "[[1, 2], [3, 4, 5], [6, 7, 8, 9]]\n"
     ]
    }
   ],
   "source": [
    "non_rectangular = [[1, 2], [3, 4, 5], [6, 7, 8, 9]]\n",
    "print(non_rectangular)"
   ]
  },
  {
   "cell_type": "code",
   "execution_count": 8,
   "metadata": {},
   "outputs": [
    {
     "name": "stdout",
     "output_type": "stream",
     "text": [
      "[list([1, 2]) list([3, 4, 5]) list([6, 7, 8, 9])]\n"
     ]
    }
   ],
   "source": [
    "non_rectangular_array = np.array(non_rectangular)\n",
    "print(non_rectangular_array)"
   ]
  },
  {
   "cell_type": "markdown",
   "metadata": {},
   "source": [
    "Why did these print differently? Let's investigate their _shape_ and _data type_ (`dtype`)."
   ]
  },
  {
   "cell_type": "code",
   "execution_count": null,
   "metadata": {},
   "outputs": [],
   "source": [
    "print(an_array.shape, an_array.dtype)\n",
    "print(non_rectangular_array.shape, non_rectangular_array.dtype)"
   ]
  },
  {
   "cell_type": "markdown",
   "metadata": {},
   "source": [
    "The first case, `an_array`, is a 2-dimensional 3x3 array (of integers). In contrast, `non_rectangular_array` is a 1-dimensional length 3 array (of _objects_, namely `list` objects).\n",
    "\n",
    "We can also create a variety of arrays with NumPy's convenience functions."
   ]
  },
  {
   "cell_type": "code",
   "execution_count": 9,
   "metadata": {},
   "outputs": [
    {
     "data": {
      "text/plain": [
       "array([ 1.        ,  2.55555556,  4.11111111,  5.66666667,  7.22222222,\n",
       "        8.77777778, 10.33333333, 11.88888889, 13.44444444, 15.        ])"
      ]
     },
     "execution_count": 9,
     "metadata": {},
     "output_type": "execute_result"
    }
   ],
   "source": [
    "## numpy linpsace - https://www.w3resource.com/numpy/array-creation/linspace.php\n",
    "\n",
    "np.linspace(1, 15, 10)"
   ]
  },
  {
   "cell_type": "code",
   "execution_count": 10,
   "metadata": {},
   "outputs": [
    {
     "data": {
      "text/plain": [
       "array([ 1,  3,  5,  7,  9, 11, 13, 15, 17, 19])"
      ]
     },
     "execution_count": 10,
     "metadata": {},
     "output_type": "execute_result"
    }
   ],
   "source": [
    "# arange - https://www.guru99.com/numpy-arange.html\n",
    "\n",
    "np.arange(1, 20, 2)"
   ]
  },
  {
   "cell_type": "code",
   "execution_count": 11,
   "metadata": {
    "scrolled": true
   },
   "outputs": [
    {
     "data": {
      "text/plain": [
       "array([1.00000000e+01, 2.78255940e+01, 7.74263683e+01, 2.15443469e+02,\n",
       "       5.99484250e+02, 1.66810054e+03, 4.64158883e+03, 1.29154967e+04,\n",
       "       3.59381366e+04, 1.00000000e+05])"
      ]
     },
     "execution_count": 11,
     "metadata": {},
     "output_type": "execute_result"
    }
   ],
   "source": [
    "np.logspace(1, 5, 10)"
   ]
  },
  {
   "cell_type": "markdown",
   "metadata": {},
   "source": [
    "https://www.geeksforgeeks.org/numpy-logspace-python/ - logspace"
   ]
  },
  {
   "cell_type": "code",
   "execution_count": 12,
   "metadata": {},
   "outputs": [
    {
     "data": {
      "text/plain": [
       "array([1.00000000e+02, 3.72759372e+02, 1.38949549e+03, 5.17947468e+03,\n",
       "       1.93069773e+04, 7.19685673e+04, 2.68269580e+05, 1.00000000e+06,\n",
       "       3.72759372e+06, 1.38949549e+07, 5.17947468e+07, 1.93069773e+08,\n",
       "       7.19685673e+08, 2.68269580e+09, 1.00000000e+10, 3.72759372e+10,\n",
       "       1.38949549e+11, 5.17947468e+11, 1.93069773e+12, 7.19685673e+12,\n",
       "       2.68269580e+13, 1.00000000e+14, 3.72759372e+14, 1.38949549e+15,\n",
       "       5.17947468e+15, 1.93069773e+16, 7.19685673e+16, 2.68269580e+17,\n",
       "       1.00000000e+18, 3.72759372e+18, 1.38949549e+19, 5.17947468e+19,\n",
       "       1.93069773e+20, 7.19685673e+20, 2.68269580e+21, 1.00000000e+22,\n",
       "       3.72759372e+22, 1.38949549e+23, 5.17947468e+23, 1.93069773e+24,\n",
       "       7.19685673e+24, 2.68269580e+25, 1.00000000e+26, 3.72759372e+26,\n",
       "       1.38949549e+27, 5.17947468e+27, 1.93069773e+28, 7.19685673e+28,\n",
       "       2.68269580e+29, 1.00000000e+30])"
      ]
     },
     "execution_count": 12,
     "metadata": {},
     "output_type": "execute_result"
    }
   ],
   "source": [
    "np.logspace(2,\n",
    "               30,\n",
    "               num = 50,\n",
    "               endpoint = True,\n",
    "               base = 10.0,\n",
    "               dtype = None)"
   ]
  },
  {
   "cell_type": "code",
   "execution_count": 13,
   "metadata": {},
   "outputs": [
    {
     "data": {
      "text/plain": [
       "array([0., 0., 0., 0., 0., 0., 0., 0., 0., 0.])"
      ]
     },
     "execution_count": 13,
     "metadata": {},
     "output_type": "execute_result"
    }
   ],
   "source": [
    "np.zeros(10)"
   ]
  },
  {
   "cell_type": "code",
   "execution_count": 14,
   "metadata": {},
   "outputs": [
    {
     "data": {
      "text/plain": [
       "array([[1, 0, 0, 0],\n",
       "       [0, 2, 0, 0],\n",
       "       [0, 0, 3, 0],\n",
       "       [0, 0, 0, 4]])"
      ]
     },
     "execution_count": 14,
     "metadata": {},
     "output_type": "execute_result"
    }
   ],
   "source": [
    "np.diag([1,2,3,4])"
   ]
  },
  {
   "cell_type": "code",
   "execution_count": 15,
   "metadata": {},
   "outputs": [
    {
     "data": {
      "text/plain": [
       "array([[1., 0., 0., 0., 0.],\n",
       "       [0., 1., 0., 0., 0.],\n",
       "       [0., 0., 1., 0., 0.],\n",
       "       [0., 0., 0., 1., 0.],\n",
       "       [0., 0., 0., 0., 1.]])"
      ]
     },
     "execution_count": 15,
     "metadata": {},
     "output_type": "execute_result"
    }
   ],
   "source": [
    "np.eye(5)"
   ]
  },
  {
   "cell_type": "markdown",
   "metadata": {},
   "source": [
    "We can also convert the `dtype` of an array after creation."
   ]
  },
  {
   "cell_type": "code",
   "execution_count": 16,
   "metadata": {},
   "outputs": [
    {
     "name": "stdout",
     "output_type": "stream",
     "text": [
      "float64\n",
      "int64\n"
     ]
    }
   ],
   "source": [
    "print(np.logspace(1, 10, 10).dtype)\n",
    "print(np.logspace(1, 10, 10).astype(int).dtype)"
   ]
  },
  {
   "cell_type": "markdown",
   "metadata": {},
   "source": [
    "Why does any of this matter?\n",
    "\n",
    "Arrays are often more efficient in terms of code as well as computational resources for certain calculations. Computationally this efficiency comes from the fact that we pre-allocate a contiguous block of memory for the results of our computation.\n",
    "\n",
    "To explore the advantages in code, let's try to do some math on these numbers.\n",
    "\n",
    "First let's simply calculate the sum of all the numbers and look at the differences in the necessary code for `list_of_lists`, `an_array`, and `non_rectangular_array`."
   ]
  },
  {
   "cell_type": "code",
   "execution_count": 17,
   "metadata": {},
   "outputs": [
    {
     "name": "stdout",
     "output_type": "stream",
     "text": [
      "45\n",
      "45\n"
     ]
    }
   ],
   "source": [
    "print(sum([sum(inner_list) for inner_list in list_of_lists]))\n",
    "print(an_array.sum())"
   ]
  },
  {
   "cell_type": "markdown",
   "metadata": {},
   "source": [
    "Summing the numbers in an array is much easier than for a list of lists. We don't have to dig into a hierarchy of lists, we just use the `sum` method of the `ndarray`. Does this still work for `non_rectangular_array`?"
   ]
  },
  {
   "cell_type": "code",
   "execution_count": 18,
   "metadata": {},
   "outputs": [
    {
     "name": "stdout",
     "output_type": "stream",
     "text": [
      "[1, 2, 3, 4, 5, 6, 7, 8, 9]\n"
     ]
    }
   ],
   "source": [
    "# what happens here?\n",
    "print(non_rectangular_array.sum())"
   ]
  },
  {
   "cell_type": "markdown",
   "metadata": {},
   "source": [
    "Remember `non_rectangular_array` is a 1-dimensional array of `list` objects. The `sum` method tries to add them together: first list + second list + third list. Addition of lists results in _concatenation_."
   ]
  },
  {
   "cell_type": "code",
   "execution_count": 19,
   "metadata": {},
   "outputs": [
    {
     "name": "stdout",
     "output_type": "stream",
     "text": [
      "[1, 2, 3, 4, 5, 6, 7, 8, 9]\n"
     ]
    }
   ],
   "source": [
    "# concatenate three lists\n",
    "print([1, 2] + [3, 4, 5] + [6, 7, 8, 9])"
   ]
  },
  {
   "cell_type": "markdown",
   "metadata": {},
   "source": [
    "The contrast becomes even more clear when we try to sum rows or columns individually."
   ]
  },
  {
   "cell_type": "code",
   "execution_count": 20,
   "metadata": {
    "scrolled": false
   },
   "outputs": [
    {
     "name": "stdout",
     "output_type": "stream",
     "text": [
      "Array row sums:  [ 6 15 24]\n",
      "Array column sums:  [12 15 18]\n"
     ]
    }
   ],
   "source": [
    "print('Array row sums: ', an_array.sum(axis=1))\n",
    "print('Array column sums: ', an_array.sum(axis=0))"
   ]
  },
  {
   "cell_type": "code",
   "execution_count": 21,
   "metadata": {},
   "outputs": [
    {
     "name": "stdout",
     "output_type": "stream",
     "text": [
      "List of list row sums:  [6, 15, 24]\n",
      "List of list column sums:  [12, 15, 18]\n"
     ]
    }
   ],
   "source": [
    "print('List of list row sums: ', [sum(inner_list) for inner_list in list_of_lists])\n",
    "\n",
    "def column_sum(list_of_lists):\n",
    "    running_sums = [0] * len(list_of_lists[0])\n",
    "    for inner_list in list_of_lists:\n",
    "        for i, number in enumerate(inner_list):\n",
    "            running_sums[i] += number\n",
    "            \n",
    "    return running_sums\n",
    "\n",
    "print('List of list column sums: ', column_sum(list_of_lists))"
   ]
  },
  {
   "cell_type": "markdown",
   "metadata": {},
   "source": [
    "Generally it is much more natural to do mathematical operations with arrays than lists."
   ]
  },
  {
   "cell_type": "code",
   "execution_count": 22,
   "metadata": {},
   "outputs": [
    {
     "name": "stdout",
     "output_type": "stream",
     "text": [
      "[ 6  7  8  9 10]\n",
      "[ 5 10 15 20 25]\n",
      "[0.2 0.4 0.6 0.8 1. ]\n"
     ]
    }
   ],
   "source": [
    "a = np.array([1, 2, 3, 4, 5])\n",
    "print(a + 5) # add a scalar\n",
    "print(a * 5) # multiply by a scalar\n",
    "print(a / 5) # divide by a scalar (note the float!)"
   ]
  },
  {
   "cell_type": "code",
   "execution_count": 23,
   "metadata": {},
   "outputs": [
    {
     "name": "stdout",
     "output_type": "stream",
     "text": [
      "[ 3  5  7  9 11]\n",
      "[ 2  6 12 20 30]\n",
      "[0.5        0.66666667 0.75       0.8        0.83333333]\n"
     ]
    }
   ],
   "source": [
    "b = a + 1\n",
    "print(a + b) # add together two arrays\n",
    "print(a * b) # multiply two arrays (element-wise)\n",
    "print(a / b.astype(float)) # divide two arrays (element-wise)"
   ]
  },
  {
   "cell_type": "markdown",
   "metadata": {},
   "source": [
    "Arrays can also be used for linear algebra, acting as vectors, matrices, tensors, etc."
   ]
  },
  {
   "cell_type": "code",
   "execution_count": 24,
   "metadata": {},
   "outputs": [
    {
     "name": "stdout",
     "output_type": "stream",
     "text": [
      "70\n",
      "[[ 2  3  4  5  6]\n",
      " [ 4  6  8 10 12]\n",
      " [ 6  9 12 15 18]\n",
      " [ 8 12 16 20 24]\n",
      " [10 15 20 25 30]]\n"
     ]
    }
   ],
   "source": [
    "print(np.dot(a, b)) # inner product of two arrays\n",
    "print(np.outer(a, b)) # outer product of two arrays"
   ]
  },
  {
   "cell_type": "markdown",
   "metadata": {},
   "source": [
    "Arrays have a lot to offer us in terms of representing and analyzing data, since we can easily apply mathematical functions to data sets or sections of data sets. Most of the time we won't run into any trouble using arrays, but it's good to be mindful of the restrictions around shape and datatype.\n",
    "\n",
    "These restrictions around `shape` and `dtype` allow the `ndarray` objects to be much more performant compared to a general Python `list`.  There are few reasons for this, but the main two result from the typed nature of the `ndarray`, as this allows contiguous memory storage and consistent function lookup.  When a Python `list` is summed, Python needs to figure out at runtime the correct way in which to add each element of the list together.  When an `ndarray` is summed, `NumPy` already knows the type of the each element (and they are consistent), thus it can sum them without checking the correct add function for each element.\n",
    "\n",
    "Lets see this in action by doing some basic profiling.  First we will create a list of 100000 random elements and then time the sum function."
   ]
  },
  {
   "cell_type": "code",
   "execution_count": 25,
   "metadata": {},
   "outputs": [],
   "source": [
    "time_list = [np.random.random() for _ in range(100000)]\n",
    "time_arr = np.array(time_list)"
   ]
  },
  {
   "cell_type": "code",
   "execution_count": 26,
   "metadata": {},
   "outputs": [
    {
     "name": "stdout",
     "output_type": "stream",
     "text": [
      "468 µs ± 4.25 µs per loop (mean ± std. dev. of 7 runs, 1000 loops each)\n"
     ]
    }
   ],
   "source": [
    "%%timeit \n",
    "sum(time_list)"
   ]
  },
  {
   "cell_type": "code",
   "execution_count": 27,
   "metadata": {},
   "outputs": [
    {
     "name": "stdout",
     "output_type": "stream",
     "text": [
      "52.4 µs ± 1.56 µs per loop (mean ± std. dev. of 7 runs, 10000 loops each)\n"
     ]
    }
   ],
   "source": [
    "%%timeit\n",
    "np.sum(time_arr)"
   ]
  },
  {
   "cell_type": "markdown",
   "metadata": {},
   "source": [
    "### Universal functions\n",
    "\n",
    "`NumPy` defines a `ufunc` which allows it to efficiently run functions over arrays.  Many of these functions are built in, such as `np.cos`, and implemented in highly performance compiled `C` code.  These functions can perform `broadcasting` which allows them to automatically handle operations between arrays of different shapes, for example two arrays with the same shape, or an array and a scalar."
   ]
  },
  {
   "cell_type": "markdown",
   "metadata": {},
   "source": [
    "### Changing Shape\n",
    "\n",
    "Often we will want to take arrays that are one shape and transform them to a different shape more amenable to a specific operation."
   ]
  },
  {
   "cell_type": "code",
   "execution_count": 28,
   "metadata": {},
   "outputs": [],
   "source": [
    "mat = np.random.rand(20, 10)"
   ]
  },
  {
   "cell_type": "code",
   "execution_count": 29,
   "metadata": {},
   "outputs": [
    {
     "data": {
      "text/plain": [
       "array([[0.10841733, 0.29516318, 0.50164749, 0.17129778, 0.49901332,\n",
       "        0.27609758, 0.50199831, 0.05545093, 0.17711872, 0.65140446],\n",
       "       [0.64347227, 0.49482139, 0.99264095, 0.84617126, 0.06270777,\n",
       "        0.27872757, 0.82763945, 0.030948  , 0.02253792, 0.96968617],\n",
       "       [0.48345006, 0.80185007, 0.24639518, 0.00355355, 0.0028751 ,\n",
       "        0.1685382 , 0.41848935, 0.4320125 , 0.14817089, 0.50056591],\n",
       "       [0.06657475, 0.338978  , 0.95918932, 0.67297666, 0.32665221,\n",
       "        0.04515986, 0.08835807, 0.12397598, 0.83969839, 0.11152036],\n",
       "       [0.81948502, 0.54920172, 0.35026985, 0.64545472, 0.42591164,\n",
       "        0.0713059 , 0.74167611, 0.44638657, 0.38275845, 0.79347395],\n",
       "       [0.42569732, 0.483235  , 0.67940756, 0.29523384, 0.238318  ,\n",
       "        0.11523751, 0.38686804, 0.30915239, 0.5632614 , 0.83281935],\n",
       "       [0.66153156, 0.92970691, 0.64180816, 0.49728948, 0.39985692,\n",
       "        0.82836018, 0.71403954, 0.13304406, 0.14667957, 0.4375607 ],\n",
       "       [0.17541737, 0.47104536, 0.33623349, 0.60229601, 0.32057862,\n",
       "        0.10209846, 0.44615268, 0.70666289, 0.85493554, 0.00750061],\n",
       "       [0.87909159, 0.57851874, 0.78854496, 0.34205359, 0.83011768,\n",
       "        0.30305097, 0.84327711, 0.21103244, 0.7273208 , 0.74882542],\n",
       "       [0.49363833, 0.41494336, 0.52298976, 0.97127496, 0.9818872 ,\n",
       "        0.1867582 , 0.69060171, 0.22447955, 0.66647906, 0.23719334],\n",
       "       [0.41536558, 0.42596473, 0.14479747, 0.75581779, 0.45221265,\n",
       "        0.8860284 , 0.6159205 , 0.01823236, 0.71239974, 0.2329005 ],\n",
       "       [0.26518141, 0.23027928, 0.7191271 , 0.61562544, 0.86941467,\n",
       "        0.44937247, 0.34318359, 0.72154742, 0.293938  , 0.56877971],\n",
       "       [0.68784583, 0.64044802, 0.43532977, 0.98015833, 0.96382021,\n",
       "        0.04827467, 0.23981567, 0.61006553, 0.95877906, 0.90414009],\n",
       "       [0.55509992, 0.61612436, 0.88201145, 0.22393943, 0.04527696,\n",
       "        0.71990125, 0.88181375, 0.78246935, 0.49967762, 0.69726802],\n",
       "       [0.42234157, 0.7124281 , 0.31869957, 0.11021222, 0.51911928,\n",
       "        0.40280902, 0.55369849, 0.4593909 , 0.86153116, 0.99846544],\n",
       "       [0.53011519, 0.73913206, 0.23690789, 0.5498238 , 0.24385792,\n",
       "        0.2623517 , 0.04561638, 0.20181947, 0.85037976, 0.41187476],\n",
       "       [0.35357155, 0.79526942, 0.32911307, 0.44230575, 0.50543324,\n",
       "        0.76823982, 0.73705869, 0.22488111, 0.84625972, 0.99265241],\n",
       "       [0.59720549, 0.58543676, 0.01093487, 0.91114778, 0.77862702,\n",
       "        0.8950913 , 0.14782903, 0.91373442, 0.36814566, 0.73528222],\n",
       "       [0.60535194, 0.4544614 , 0.30328987, 0.99656334, 0.97106075,\n",
       "        0.19804551, 0.91696458, 0.09140284, 0.19850123, 0.32979686],\n",
       "       [0.62774303, 0.88669303, 0.28041922, 0.45985849, 0.99553995,\n",
       "        0.20755423, 0.55032572, 0.2356912 , 0.47701348, 0.81569544]])"
      ]
     },
     "execution_count": 29,
     "metadata": {},
     "output_type": "execute_result"
    }
   ],
   "source": [
    "mat"
   ]
  },
  {
   "cell_type": "code",
   "execution_count": 30,
   "metadata": {},
   "outputs": [
    {
     "data": {
      "text/plain": [
       "(40, 5)"
      ]
     },
     "execution_count": 30,
     "metadata": {},
     "output_type": "execute_result"
    }
   ],
   "source": [
    "mat.reshape(40, 5).shape"
   ]
  },
  {
   "cell_type": "code",
   "execution_count": 31,
   "metadata": {},
   "outputs": [
    {
     "data": {
      "text/plain": [
       "array([[0.10841733, 0.29516318, 0.50164749, 0.17129778, 0.49901332,\n",
       "        0.27609758, 0.50199831, 0.05545093, 0.17711872, 0.65140446],\n",
       "       [0.64347227, 0.49482139, 0.99264095, 0.84617126, 0.06270777,\n",
       "        0.27872757, 0.82763945, 0.030948  , 0.02253792, 0.96968617],\n",
       "       [0.48345006, 0.80185007, 0.24639518, 0.00355355, 0.0028751 ,\n",
       "        0.1685382 , 0.41848935, 0.4320125 , 0.14817089, 0.50056591],\n",
       "       [0.06657475, 0.338978  , 0.95918932, 0.67297666, 0.32665221,\n",
       "        0.04515986, 0.08835807, 0.12397598, 0.83969839, 0.11152036],\n",
       "       [0.81948502, 0.54920172, 0.35026985, 0.64545472, 0.42591164,\n",
       "        0.0713059 , 0.74167611, 0.44638657, 0.38275845, 0.79347395],\n",
       "       [0.42569732, 0.483235  , 0.67940756, 0.29523384, 0.238318  ,\n",
       "        0.11523751, 0.38686804, 0.30915239, 0.5632614 , 0.83281935],\n",
       "       [0.66153156, 0.92970691, 0.64180816, 0.49728948, 0.39985692,\n",
       "        0.82836018, 0.71403954, 0.13304406, 0.14667957, 0.4375607 ],\n",
       "       [0.17541737, 0.47104536, 0.33623349, 0.60229601, 0.32057862,\n",
       "        0.10209846, 0.44615268, 0.70666289, 0.85493554, 0.00750061],\n",
       "       [0.87909159, 0.57851874, 0.78854496, 0.34205359, 0.83011768,\n",
       "        0.30305097, 0.84327711, 0.21103244, 0.7273208 , 0.74882542],\n",
       "       [0.49363833, 0.41494336, 0.52298976, 0.97127496, 0.9818872 ,\n",
       "        0.1867582 , 0.69060171, 0.22447955, 0.66647906, 0.23719334],\n",
       "       [0.41536558, 0.42596473, 0.14479747, 0.75581779, 0.45221265,\n",
       "        0.8860284 , 0.6159205 , 0.01823236, 0.71239974, 0.2329005 ],\n",
       "       [0.26518141, 0.23027928, 0.7191271 , 0.61562544, 0.86941467,\n",
       "        0.44937247, 0.34318359, 0.72154742, 0.293938  , 0.56877971],\n",
       "       [0.68784583, 0.64044802, 0.43532977, 0.98015833, 0.96382021,\n",
       "        0.04827467, 0.23981567, 0.61006553, 0.95877906, 0.90414009],\n",
       "       [0.55509992, 0.61612436, 0.88201145, 0.22393943, 0.04527696,\n",
       "        0.71990125, 0.88181375, 0.78246935, 0.49967762, 0.69726802],\n",
       "       [0.42234157, 0.7124281 , 0.31869957, 0.11021222, 0.51911928,\n",
       "        0.40280902, 0.55369849, 0.4593909 , 0.86153116, 0.99846544],\n",
       "       [0.53011519, 0.73913206, 0.23690789, 0.5498238 , 0.24385792,\n",
       "        0.2623517 , 0.04561638, 0.20181947, 0.85037976, 0.41187476],\n",
       "       [0.35357155, 0.79526942, 0.32911307, 0.44230575, 0.50543324,\n",
       "        0.76823982, 0.73705869, 0.22488111, 0.84625972, 0.99265241],\n",
       "       [0.59720549, 0.58543676, 0.01093487, 0.91114778, 0.77862702,\n",
       "        0.8950913 , 0.14782903, 0.91373442, 0.36814566, 0.73528222],\n",
       "       [0.60535194, 0.4544614 , 0.30328987, 0.99656334, 0.97106075,\n",
       "        0.19804551, 0.91696458, 0.09140284, 0.19850123, 0.32979686],\n",
       "       [0.62774303, 0.88669303, 0.28041922, 0.45985849, 0.99553995,\n",
       "        0.20755423, 0.55032572, 0.2356912 , 0.47701348, 0.81569544]])"
      ]
     },
     "execution_count": 31,
     "metadata": {},
     "output_type": "execute_result"
    }
   ],
   "source": [
    "mat"
   ]
  },
  {
   "cell_type": "code",
   "execution_count": 32,
   "metadata": {},
   "outputs": [
    {
     "name": "stdout",
     "output_type": "stream",
     "text": [
      "\u001b[0;31m---------------------------------------------------------------------------\u001b[0m\n",
      "\u001b[0;31mValueError\u001b[0m                                Traceback (most recent call last)\n",
      "\u001b[0;32m<ipython-input-32-8f32a9a8072f>\u001b[0m in \u001b[0;36m<module>\u001b[0;34m()\u001b[0m\n",
      "\u001b[1;32m      1\u001b[0m \u001b[0;34m\u001b[0m\u001b[0m\n",
      "\u001b[0;32m----> 2\u001b[0;31m \u001b[0mmat\u001b[0m\u001b[0;34m.\u001b[0m\u001b[0mreshape\u001b[0m\u001b[0;34m(\u001b[0m\u001b[0;36m30\u001b[0m\u001b[0;34m,\u001b[0m \u001b[0;36m5\u001b[0m\u001b[0;34m)\u001b[0m\u001b[0;34m\u001b[0m\u001b[0;34m\u001b[0m\u001b[0m\n",
      "\u001b[0m\n",
      "\u001b[0;31mValueError\u001b[0m: cannot reshape array of size 200 into shape (30,5)\n"
     ]
    }
   ],
   "source": [
    "%%expect_exception ValueError\n",
    "\n",
    "mat.reshape(30, 5)"
   ]
  },
  {
   "cell_type": "code",
   "execution_count": 33,
   "metadata": {},
   "outputs": [
    {
     "data": {
      "text/plain": [
       "(200,)"
      ]
     },
     "execution_count": 33,
     "metadata": {},
     "output_type": "execute_result"
    }
   ],
   "source": [
    "mat.ravel().shape"
   ]
  },
  {
   "cell_type": "code",
   "execution_count": 34,
   "metadata": {},
   "outputs": [
    {
     "data": {
      "text/plain": [
       "(10, 20)"
      ]
     },
     "execution_count": 34,
     "metadata": {},
     "output_type": "execute_result"
    }
   ],
   "source": [
    "mat.transpose().shape"
   ]
  },
  {
   "cell_type": "markdown",
   "metadata": {},
   "source": [
    "### Combining arrays"
   ]
  },
  {
   "cell_type": "code",
   "execution_count": 35,
   "metadata": {},
   "outputs": [
    {
     "name": "stdout",
     "output_type": "stream",
     "text": [
      "[1 2 3 4 5]\n",
      "[2 3 4 5 6]\n"
     ]
    }
   ],
   "source": [
    "print(a)\n",
    "print(b)"
   ]
  },
  {
   "cell_type": "code",
   "execution_count": 36,
   "metadata": {},
   "outputs": [
    {
     "data": {
      "text/plain": [
       "array([1, 2, 3, 4, 5, 2, 3, 4, 5, 6])"
      ]
     },
     "execution_count": 36,
     "metadata": {},
     "output_type": "execute_result"
    }
   ],
   "source": [
    "np.hstack((a, b))"
   ]
  },
  {
   "cell_type": "code",
   "execution_count": 37,
   "metadata": {},
   "outputs": [
    {
     "data": {
      "text/plain": [
       "array([[1, 2, 3, 4, 5],\n",
       "       [2, 3, 4, 5, 6]])"
      ]
     },
     "execution_count": 37,
     "metadata": {},
     "output_type": "execute_result"
    }
   ],
   "source": [
    "np.vstack((a, b))"
   ]
  },
  {
   "cell_type": "code",
   "execution_count": 38,
   "metadata": {},
   "outputs": [
    {
     "data": {
      "text/plain": [
       "array([[[1, 2],\n",
       "        [2, 3],\n",
       "        [3, 4],\n",
       "        [4, 5],\n",
       "        [5, 6]]])"
      ]
     },
     "execution_count": 38,
     "metadata": {},
     "output_type": "execute_result"
    }
   ],
   "source": [
    "np.dstack((a, b))"
   ]
  },
  {
   "cell_type": "markdown",
   "metadata": {},
   "source": [
    "### Basic data aggregation\n",
    "\n",
    "Let's explore some more examples of using arrays, this time using NumPy's `random` submodule to create some \"fake data\". Simulating data is useful for testing and prototyping new techniques or code, and some algorithms even require random input."
   ]
  },
  {
   "cell_type": "code",
   "execution_count": 40,
   "metadata": {},
   "outputs": [
    {
     "name": "stdout",
     "output_type": "stream",
     "text": [
      "[[127 117  39 131  96  45 127]\n",
      " [146  99 112 141 124 128 176]\n",
      " [155 174  77  26 112 182  62]\n",
      " [154  45 185  82  46 113  73]]\n"
     ]
    }
   ],
   "source": [
    "np.random.seed(42)\n",
    "jan_coffee_sales = np.random.randint(25, 200, size=(4, 7))\n",
    "print(jan_coffee_sales)"
   ]
  },
  {
   "cell_type": "code",
   "execution_count": 41,
   "metadata": {},
   "outputs": [
    {
     "name": "stdout",
     "output_type": "stream",
     "text": [
      "Mean coffees sold per day in January: 110\n"
     ]
    }
   ],
   "source": [
    "# mean sales\n",
    "print('Mean coffees sold per day in January: %d' % jan_coffee_sales.mean())"
   ]
  },
  {
   "cell_type": "code",
   "execution_count": 42,
   "metadata": {},
   "outputs": [
    {
     "name": "stdout",
     "output_type": "stream",
     "text": [
      "Mean coffees sold on Monday in January: 108\n"
     ]
    }
   ],
   "source": [
    "# mean sales for Monday\n",
    "print('Mean coffees sold on Monday in January: %d' % jan_coffee_sales[:, 1].mean())"
   ]
  },
  {
   "cell_type": "code",
   "execution_count": 43,
   "metadata": {},
   "outputs": [
    {
     "name": "stdout",
     "output_type": "stream",
     "text": [
      "Day with highest sales was January 24\n"
     ]
    }
   ],
   "source": [
    "# day with most sales\n",
    "# remember we count dates from 1, not 0!\n",
    "print('Day with highest sales was January %d' % (jan_coffee_sales.argmax() + 1))"
   ]
  },
  {
   "cell_type": "code",
   "execution_count": 44,
   "metadata": {},
   "outputs": [
    {
     "data": {
      "text/plain": [
       "[(Fraction(0, 1), 4.930380657631324e-32),\n",
       " (Fraction(1, 28), 11.81850804066758),\n",
       " (Fraction(1, 14), 3.0624177128282777),\n",
       " (Fraction(3, 28), 3.6145035763808595),\n",
       " (Fraction(1, 7), 8.992489334676053),\n",
       " (Fraction(5, 28), 3.689054592513946),\n",
       " (Fraction(3, 14), 8.363267066546033),\n",
       " (Fraction(1, 4), 16.615944819859244),\n",
       " (Fraction(2, 7), 0.6736105397207648),\n",
       " (Fraction(9, 28), 6.846412421396466),\n",
       " (Fraction(5, 14), 14.279717692527932),\n",
       " (Fraction(11, 28), 17.951272090034657),\n",
       " (Fraction(3, 7), 4.608890497088778),\n",
       " (Fraction(13, 28), 6.579601542582696)]"
      ]
     },
     "execution_count": 44,
     "metadata": {},
     "output_type": "execute_result"
    }
   ],
   "source": [
    "# is there a weekly periodicity?\n",
    "from fractions import Fraction\n",
    "\n",
    "normalized_sales = (jan_coffee_sales - jan_coffee_sales.mean()) / abs(jan_coffee_sales - jan_coffee_sales.mean()).max()\n",
    "frequencies = [Fraction.from_float(f).limit_denominator() for f in np.fft.fftfreq(normalized_sales.size)]\n",
    "power = np.abs(np.fft.fft(normalized_sales.ravel()))**2\n",
    "list(zip(frequencies, power))[:len(power) // 2]"
   ]
  },
  {
   "cell_type": "markdown",
   "metadata": {},
   "source": [
    "Some of the functions we used above do not exist in standard Python and are provided to us by NumPy. Additionally we see that we can use the shape of an array to help us compute statistics on a subset of our data (e.g. mean number of coffees sold on Mondays). But one of the most powerful things we can do to explore data is to simply visualize it."
   ]
  },
  {
   "cell_type": "markdown",
   "metadata": {},
   "source": [
    "## Matplotlib\n",
    "\n",
    "Matplotlib is the most popular Python plotting library. It allows us to visualize data quickly by providing a variety of types of graphs (e.g. bar, scatter, line, etc.). It also provides useful tools for arranging multiple images or image components within a figure, enabling us to build up more complex visualizations as we need to.\n",
    "\n",
    "Let's visualize some data! In the next cells, we'll generate some data. For now we'll be focusing on how the graphs are produced rather than how the data is made."
   ]
  },
  {
   "cell_type": "code",
   "execution_count": 45,
   "metadata": {},
   "outputs": [],
   "source": [
    "import matplotlib.pyplot as plt"
   ]
  },
  {
   "cell_type": "code",
   "execution_count": 46,
   "metadata": {},
   "outputs": [
    {
     "data": {
      "text/plain": [
       "<matplotlib.legend.Legend at 0x7fdf85b467b8>"
      ]
     },
     "execution_count": 46,
     "metadata": {},
     "output_type": "execute_result"
    },
    {
     "data": {
      "image/png": "[encoded data removed]",
      "text/plain": [
       "<Figure size 864x576 with 1 Axes>"
      ]
     },
     "metadata": {},
     "output_type": "display_data"
    }
   ],
   "source": [
    "def gen_stock_price(days, initial_price):\n",
    "    # stock price grows or shrinks linearly\n",
    "    # not exceeding 10% per year (heuristic)\n",
    "    trend = initial_price * (np.arange(days) * .1 / 365 * np.random.rand() * np.random.choice([1, -1]) + 1)\n",
    "    # noise will be about 2%\n",
    "    noise = .02 * np.random.randn(len(trend)) * trend\n",
    "    return trend + noise\n",
    "\n",
    "days = 365\n",
    "initial_prices = [80, 70, 65]\n",
    "for price in initial_prices:\n",
    "    plt.plot(np.arange(-days, 0), gen_stock_price(days, price))\n",
    "plt.title('Stock price history for last %d days' % days)\n",
    "plt.xlabel('Time (days)')\n",
    "plt.ylabel('Price (USD)')\n",
    "plt.legend(['Company A', 'Company B', 'Company C'])"
   ]
  },
  {
   "cell_type": "code",
   "execution_count": 47,
   "metadata": {},
   "outputs": [
    {
     "data": {
      "text/plain": [
       "<matplotlib.legend.Legend at 0x7fdf85a436d8>"
      ]
     },
     "execution_count": 47,
     "metadata": {},
     "output_type": "execute_result"
    },
    {
     "data": {
      "image/png": "[encoded data removed]",
      "text/plain": [
       "<Figure size 1728x864 with 3 Axes>"
      ]
     },
     "metadata": {},
     "output_type": "display_data"
    }
   ],
   "source": [
    "from scipy.stats import linregress\n",
    "\n",
    "def gen_football_team(n_players, mean_shoe, mean_jersey):\n",
    "    shoe_sizes = np.random.normal(size=n_players, loc=mean_shoe, scale=.15 * mean_shoe)\n",
    "    jersey_sizes = mean_jersey / mean_shoe * shoe_sizes + np.random.normal(size=n_players, scale=.05 * mean_jersey)\n",
    "\n",
    "    return shoe_sizes, jersey_sizes\n",
    "\n",
    "shoes, jerseys = gen_football_team(16, 11, 100)\n",
    "\n",
    "fig = plt.figure(figsize=(12, 6))\n",
    "fig.suptitle('Football team equipment profile')\n",
    "\n",
    "ax1 = plt.subplot(221)\n",
    "ax1.hist(shoes)\n",
    "ax1.set_xlabel('Shoe size')\n",
    "ax1.set_ylabel('Counts')\n",
    "\n",
    "ax2 = plt.subplot(223)\n",
    "ax2.hist(jerseys)\n",
    "ax2.set_xlabel('Chest size (cm)')\n",
    "ax2.set_ylabel('Counts')\n",
    "\n",
    "ax3 = plt.subplot(122)\n",
    "ax3.scatter(shoes, jerseys, label='Data')\n",
    "ax3.set_xlabel('Shoe size')\n",
    "ax3.set_ylabel('Chest size (cm)')\n",
    "\n",
    "fit_line = linregress(shoes, jerseys)\n",
    "ax3.plot(shoes, fit_line[1] + fit_line[0] * shoes, 'r', label='Line of best fit')\n",
    "\n",
    "handles, labels = ax3.get_legend_handles_labels()\n",
    "ax3.legend(handles[::-1], labels[::-1])"
   ]
  },
  {
   "cell_type": "code",
   "execution_count": 48,
   "metadata": {},
   "outputs": [
    {
     "data": {
      "text/plain": [
       "Text(0, 0.5, 'Temperature (C)')"
      ]
     },
     "execution_count": 48,
     "metadata": {},
     "output_type": "execute_result"
    },
    {
     "data": {
      "image/png": "[encoded data removed]",
      "text/plain": [
       "<Figure size 864x576 with 1 Axes>"
      ]
     },
     "metadata": {},
     "output_type": "display_data"
    }
   ],
   "source": [
    "def gen_hourly_temps(days):\n",
    "    ndays = len(days)\n",
    "    seasonality = (-15 * np.cos((np.array(days) - 30) * 2.0 * np.pi / 365)).repeat(24) + 10\n",
    "    solar = -3 * np.cos(np.arange(24 * ndays) * 2.0 * np.pi / 24)\n",
    "    weather = np.interp(range(len(days) * 24), range(0, 24 * len(days), 24 * 2), 3 * np.random.randn(np.ceil(float(len(days)) / 2).astype(int)))\n",
    "    noise = .5 * np.random.randn(24 * len(days))\n",
    "\n",
    "    return seasonality + solar + weather + noise\n",
    "\n",
    "days = np.arange(365)\n",
    "hours = np.arange(days[0] * 24, (days[-1] + 1) * 24)\n",
    "plt.plot(hours, gen_hourly_temps(days))\n",
    "plt.title('Hourly temperatures')\n",
    "plt.xlabel('Time (hours since Jan. 1)')\n",
    "plt.ylabel('Temperature (C)')"
   ]
  },
  {
   "cell_type": "markdown",
   "metadata": {},
   "source": [
    "In the examples above we've made use of the ubiquitous `plot` command, `subplot` for arranging multiple plots in one image, and `hist` for creating histograms. We've also used both the \"state machine\" (i.e. using a sequence of `plt.method` commands) and \"object-oriented\" (i.e. creating figure objects and mutating them) plotting paradigms. The Matplotlib package is very flexible and the possibilities for visualizing data are mostly limited by imagination. A great way to explore Matplotlib and other data visualization packages is by consulting their [gallery pages](https://matplotlib.org/gallery.html)."
   ]
  },
  {
   "cell_type": "markdown",
   "metadata": {},
   "source": [
    "# Pandas\n",
    "\n",
    "NumPy is useful for handling data as it lets us efficiently apply functions to whole data sets or select pieces of them. However, it can be difficult to keep track of related data that might be stored in different arrays, or the meaning of data stored in different rows or columns of the same array.\n",
    "\n",
    "For example, in the previous section we had a 1-dimensional array for shoe sizes, and another 1-dimensional array for jersey sizes. If we wanted to look up the shoe and jersey size for a particular player, we'd have to remember his position in each array.\n",
    "\n",
    "Alternatively, we could combine the two 1-dimensional arrays to make a 2-dimensional array with `n_players` rows and two columns (one for shoe size, one for jersey size). But once we combine the data, we now have to remember which column is shoe size and which column is jersey size.\n",
    "\n",
    "The Pandas package introduces a very powerful tool for working with data in Python: the DataFrame. A DataFrame is a table. Each column represents a different type of data (sometimes called a **field**). The columns are named, so I could have a column called `'shoe_size'` and a column called `'jersey_size'`. I don't have to remember which column is which, because I can refer to them by name. Each row represents a different **record** or **entity** (e.g. player). I can also name the rows, so instead of remembering which row in my array corresponds with Ronaldinho, I can name the row 'Ronaldinho' and look up his shoe size and jersey size by name."
   ]
  },
  {
   "cell_type": "code",
   "execution_count": 49,
   "metadata": {},
   "outputs": [
    {
     "data": {
      "text/html": [
       "<div>\n",
       "<style scoped>\n",
       "    .dataframe tbody tr th:only-of-type {\n",
       "        vertical-align: middle;\n",
       "    }\n",
       "\n",
       "    .dataframe tbody tr th {\n",
       "        vertical-align: top;\n",
       "    }\n",
       "\n",
       "    .dataframe thead th {\n",
       "        text-align: right;\n",
       "    }\n",
       "</style>\n",
       "<table border=\"1\" class=\"dataframe\">\n",
       "  <thead>\n",
       "    <tr style=\"text-align: right;\">\n",
       "      <th></th>\n",
       "      <th>shoe_size</th>\n",
       "      <th>jersey_size</th>\n",
       "    </tr>\n",
       "  </thead>\n",
       "  <tbody>\n",
       "    <tr>\n",
       "      <th>Ronaldinho</th>\n",
       "      <td>8.547275</td>\n",
       "      <td>92.500983</td>\n",
       "    </tr>\n",
       "    <tr>\n",
       "      <th>Pele</th>\n",
       "      <td>7.927346</td>\n",
       "      <td>80.277155</td>\n",
       "    </tr>\n",
       "    <tr>\n",
       "      <th>Lionel Messi</th>\n",
       "      <td>11.155075</td>\n",
       "      <td>101.037748</td>\n",
       "    </tr>\n",
       "    <tr>\n",
       "      <th>Zinedine Zidane</th>\n",
       "      <td>12.259221</td>\n",
       "      <td>119.224510</td>\n",
       "    </tr>\n",
       "    <tr>\n",
       "      <th>Didier Drogba</th>\n",
       "      <td>9.341725</td>\n",
       "      <td>89.126170</td>\n",
       "    </tr>\n",
       "    <tr>\n",
       "      <th>Ronaldo</th>\n",
       "      <td>8.291408</td>\n",
       "      <td>80.182757</td>\n",
       "    </tr>\n",
       "    <tr>\n",
       "      <th>Yaya Toure</th>\n",
       "      <td>6.312746</td>\n",
       "      <td>65.942012</td>\n",
       "    </tr>\n",
       "    <tr>\n",
       "      <th>Frank Rijkaard</th>\n",
       "      <td>8.528853</td>\n",
       "      <td>84.751303</td>\n",
       "    </tr>\n",
       "    <tr>\n",
       "      <th>Diego Maradona</th>\n",
       "      <td>9.829515</td>\n",
       "      <td>97.910820</td>\n",
       "    </tr>\n",
       "    <tr>\n",
       "      <th>Mohamed Aboutrika</th>\n",
       "      <td>12.398685</td>\n",
       "      <td>130.554214</td>\n",
       "    </tr>\n",
       "    <tr>\n",
       "      <th>Samuel Eto'o</th>\n",
       "      <td>11.009701</td>\n",
       "      <td>106.614700</td>\n",
       "    </tr>\n",
       "    <tr>\n",
       "      <th>George Best</th>\n",
       "      <td>10.457628</td>\n",
       "      <td>113.897279</td>\n",
       "    </tr>\n",
       "    <tr>\n",
       "      <th>George Weah</th>\n",
       "      <td>9.399821</td>\n",
       "      <td>90.641667</td>\n",
       "    </tr>\n",
       "    <tr>\n",
       "      <th>Roberto Donadoni</th>\n",
       "      <td>9.125251</td>\n",
       "      <td>91.698505</td>\n",
       "    </tr>\n",
       "  </tbody>\n",
       "</table>\n",
       "</div>"
      ],
      "text/plain": [
       "                   shoe_size  jersey_size\n",
       "Ronaldinho          8.547275    92.500983\n",
       "Pele                7.927346    80.277155\n",
       "Lionel Messi       11.155075   101.037748\n",
       "Zinedine Zidane    12.259221   119.224510\n",
       "Didier Drogba       9.341725    89.126170\n",
       "Ronaldo             8.291408    80.182757\n",
       "Yaya Toure          6.312746    65.942012\n",
       "Frank Rijkaard      8.528853    84.751303\n",
       "Diego Maradona      9.829515    97.910820\n",
       "Mohamed Aboutrika  12.398685   130.554214\n",
       "Samuel Eto'o       11.009701   106.614700\n",
       "George Best        10.457628   113.897279\n",
       "George Weah         9.399821    90.641667\n",
       "Roberto Donadoni    9.125251    91.698505"
      ]
     },
     "execution_count": 49,
     "metadata": {},
     "output_type": "execute_result"
    }
   ],
   "source": [
    "import pandas as pd\n",
    "\n",
    "players = ['Ronaldinho', 'Pele', 'Lionel Messi', 'Zinedine Zidane', 'Didier Drogba', 'Ronaldo', 'Yaya Toure', \n",
    "           'Frank Rijkaard', 'Diego Maradona', 'Mohamed Aboutrika', \"Samuel Eto'o\", 'George Best', 'George Weah', \n",
    "           'Roberto Donadoni']\n",
    "shoes, jerseys = gen_football_team(len(players), 10, 100)\n",
    "\n",
    "df = pd.DataFrame({'shoe_size': shoes, 'jersey_size': jerseys}, index = players)\n",
    "\n",
    "df"
   ]
  },
  {
   "cell_type": "code",
   "execution_count": 50,
   "metadata": {},
   "outputs": [
    {
     "data": {
      "text/html": [
       "<div>\n",
       "<style scoped>\n",
       "    .dataframe tbody tr th:only-of-type {\n",
       "        vertical-align: middle;\n",
       "    }\n",
       "\n",
       "    .dataframe tbody tr th {\n",
       "        vertical-align: top;\n",
       "    }\n",
       "\n",
       "    .dataframe thead th {\n",
       "        text-align: right;\n",
       "    }\n",
       "</style>\n",
       "<table border=\"1\" class=\"dataframe\">\n",
       "  <thead>\n",
       "    <tr style=\"text-align: right;\">\n",
       "      <th></th>\n",
       "      <th>shoe_size</th>\n",
       "      <th>jersey_size</th>\n",
       "    </tr>\n",
       "  </thead>\n",
       "  <tbody>\n",
       "    <tr>\n",
       "      <th>Ronaldinho</th>\n",
       "      <td>8.547275</td>\n",
       "      <td>92.500983</td>\n",
       "    </tr>\n",
       "    <tr>\n",
       "      <th>Pele</th>\n",
       "      <td>7.927346</td>\n",
       "      <td>80.277155</td>\n",
       "    </tr>\n",
       "    <tr>\n",
       "      <th>Lionel Messi</th>\n",
       "      <td>11.155075</td>\n",
       "      <td>101.037748</td>\n",
       "    </tr>\n",
       "    <tr>\n",
       "      <th>Zinedine Zidane</th>\n",
       "      <td>12.259221</td>\n",
       "      <td>119.224510</td>\n",
       "    </tr>\n",
       "    <tr>\n",
       "      <th>Didier Drogba</th>\n",
       "      <td>9.341725</td>\n",
       "      <td>89.126170</td>\n",
       "    </tr>\n",
       "    <tr>\n",
       "      <th>Ronaldo</th>\n",
       "      <td>8.291408</td>\n",
       "      <td>80.182757</td>\n",
       "    </tr>\n",
       "    <tr>\n",
       "      <th>Yaya Toure</th>\n",
       "      <td>6.312746</td>\n",
       "      <td>65.942012</td>\n",
       "    </tr>\n",
       "    <tr>\n",
       "      <th>Frank Rijkaard</th>\n",
       "      <td>8.528853</td>\n",
       "      <td>84.751303</td>\n",
       "    </tr>\n",
       "    <tr>\n",
       "      <th>Diego Maradona</th>\n",
       "      <td>9.829515</td>\n",
       "      <td>97.910820</td>\n",
       "    </tr>\n",
       "    <tr>\n",
       "      <th>Mohamed Aboutrika</th>\n",
       "      <td>12.398685</td>\n",
       "      <td>130.554214</td>\n",
       "    </tr>\n",
       "    <tr>\n",
       "      <th>Samuel Eto'o</th>\n",
       "      <td>11.009701</td>\n",
       "      <td>106.614700</td>\n",
       "    </tr>\n",
       "    <tr>\n",
       "      <th>George Best</th>\n",
       "      <td>10.457628</td>\n",
       "      <td>113.897279</td>\n",
       "    </tr>\n",
       "    <tr>\n",
       "      <th>George Weah</th>\n",
       "      <td>9.399821</td>\n",
       "      <td>90.641667</td>\n",
       "    </tr>\n",
       "    <tr>\n",
       "      <th>Roberto Donadoni</th>\n",
       "      <td>9.125251</td>\n",
       "      <td>91.698505</td>\n",
       "    </tr>\n",
       "  </tbody>\n",
       "</table>\n",
       "</div>"
      ],
      "text/plain": [
       "                   shoe_size  jersey_size\n",
       "Ronaldinho          8.547275    92.500983\n",
       "Pele                7.927346    80.277155\n",
       "Lionel Messi       11.155075   101.037748\n",
       "Zinedine Zidane    12.259221   119.224510\n",
       "Didier Drogba       9.341725    89.126170\n",
       "Ronaldo             8.291408    80.182757\n",
       "Yaya Toure          6.312746    65.942012\n",
       "Frank Rijkaard      8.528853    84.751303\n",
       "Diego Maradona      9.829515    97.910820\n",
       "Mohamed Aboutrika  12.398685   130.554214\n",
       "Samuel Eto'o       11.009701   106.614700\n",
       "George Best        10.457628   113.897279\n",
       "George Weah         9.399821    90.641667\n",
       "Roberto Donadoni    9.125251    91.698505"
      ]
     },
     "execution_count": 50,
     "metadata": {},
     "output_type": "execute_result"
    }
   ],
   "source": [
    "# we can also make a dataframe using zip\n",
    "\n",
    "df = pd.DataFrame(list(zip(shoes, jerseys)), columns = ['shoe_size', 'jersey_size'], index = players)\n",
    "\n",
    "df"
   ]
  },
  {
   "cell_type": "markdown",
   "metadata": {},
   "source": [
    "The DataFrame has similarities to both a `dict` and a NumPy `ndarray`. For example, we can retrieve a column from the DataFrame by using its name, just like we would retrieve an item from a `dict` using its key."
   ]
  },
  {
   "cell_type": "code",
   "execution_count": 51,
   "metadata": {},
   "outputs": [
    {
     "name": "stdout",
     "output_type": "stream",
     "text": [
      "Ronaldinho            8.547275\n",
      "Pele                  7.927346\n",
      "Lionel Messi         11.155075\n",
      "Zinedine Zidane      12.259221\n",
      "Didier Drogba         9.341725\n",
      "Ronaldo               8.291408\n",
      "Yaya Toure            6.312746\n",
      "Frank Rijkaard        8.528853\n",
      "Diego Maradona        9.829515\n",
      "Mohamed Aboutrika    12.398685\n",
      "Samuel Eto'o         11.009701\n",
      "George Best          10.457628\n",
      "George Weah           9.399821\n",
      "Roberto Donadoni      9.125251\n",
      "Name: shoe_size, dtype: float64\n"
     ]
    }
   ],
   "source": [
    "print(df['shoe_size'])"
   ]
  },
  {
   "cell_type": "markdown",
   "metadata": {},
   "source": [
    "And we can easily apply functions to the DataFrame, just like we would with a NumPy array."
   ]
  },
  {
   "cell_type": "code",
   "execution_count": 52,
   "metadata": {},
   "outputs": [
    {
     "name": "stdout",
     "output_type": "stream",
     "text": [
      "                   shoe_size  jersey_size\n",
      "Ronaldinho          2.145612     4.527219\n",
      "Pele                2.070318     4.385485\n",
      "Lionel Messi        2.411895     4.615494\n",
      "Zinedine Zidane     2.506278     4.781008\n",
      "Didier Drogba       2.234491     4.490053\n",
      "Ronaldo             2.115220     4.384308\n",
      "Yaya Toure          1.842571     4.188776\n",
      "Frank Rijkaard      2.143455     4.439721\n",
      "Diego Maradona      2.285390     4.584057\n",
      "Mohamed Aboutrika   2.517590     4.871789\n",
      "Samuel Eto'o        2.398777     4.669221\n",
      "George Best         2.347332     4.735297\n",
      "George Weah         2.240691     4.506914\n",
      "Roberto Donadoni    2.211045     4.518506\n"
     ]
    }
   ],
   "source": [
    "print(np.log(df))"
   ]
  },
  {
   "cell_type": "code",
   "execution_count": 53,
   "metadata": {},
   "outputs": [
    {
     "data": {
      "text/plain": [
       "shoe_size       9.613161\n",
       "jersey_size    96.025702\n",
       "dtype: float64"
      ]
     },
     "execution_count": 53,
     "metadata": {},
     "output_type": "execute_result"
    }
   ],
   "source": [
    "df.mean()"
   ]
  },
  {
   "cell_type": "markdown",
   "metadata": {},
   "source": [
    "We'll explore applying functions and analyzing data in a DataFrame in more depth later on. First we need to know how to retrieve, add, and remove data from a DataFrame.\n",
    "\n",
    "We've already seen how to retrieve a column, what about retrieving a row? The most flexible syntax is to use the DataFrame's `loc` method."
   ]
  },
  {
   "cell_type": "code",
   "execution_count": 54,
   "metadata": {},
   "outputs": [
    {
     "name": "stdout",
     "output_type": "stream",
     "text": [
      "shoe_size       8.291408\n",
      "jersey_size    80.182757\n",
      "Name: Ronaldo, dtype: float64\n"
     ]
    }
   ],
   "source": [
    "print(df.loc['Ronaldo'])"
   ]
  },
  {
   "cell_type": "code",
   "execution_count": 55,
   "metadata": {},
   "outputs": [
    {
     "name": "stdout",
     "output_type": "stream",
     "text": [
      "Ronaldo         8.291408\n",
      "George Best    10.457628\n",
      "Name: shoe_size, dtype: float64\n"
     ]
    }
   ],
   "source": [
    "print(df.loc[['Ronaldo', 'George Best'], 'shoe_size'])"
   ]
  },
  {
   "cell_type": "code",
   "execution_count": 56,
   "metadata": {},
   "outputs": [
    {
     "name": "stdout",
     "output_type": "stream",
     "text": [
      "Ronaldo               8.291408\n",
      "Yaya Toure            6.312746\n",
      "Frank Rijkaard        8.528853\n",
      "Diego Maradona        9.829515\n",
      "Mohamed Aboutrika    12.398685\n",
      "Samuel Eto'o         11.009701\n",
      "George Best          10.457628\n",
      "Name: shoe_size, dtype: float64\n"
     ]
    }
   ],
   "source": [
    "# can also select position-based slices of data\n",
    "print(df.loc['Ronaldo':'George Best', 'shoe_size'])"
   ]
  },
  {
   "cell_type": "code",
   "execution_count": 57,
   "metadata": {},
   "outputs": [
    {
     "name": "stdout",
     "output_type": "stream",
     "text": [
      "                 shoe_size  jersey_size\n",
      "Ronaldinho        8.547275    92.500983\n",
      "Pele              7.927346    80.277155\n",
      "Lionel Messi     11.155075   101.037748\n",
      "Zinedine Zidane  12.259221   119.224510\n",
      "Didier Drogba     9.341725    89.126170\n"
     ]
    }
   ],
   "source": [
    "# for position-based indexing, we will typically use iloc\n",
    "print(df.iloc[:5])"
   ]
  },
  {
   "cell_type": "code",
   "execution_count": 58,
   "metadata": {},
   "outputs": [
    {
     "name": "stdout",
     "output_type": "stream",
     "text": [
      "Lionel Messi       11.155075\n",
      "Zinedine Zidane    12.259221\n",
      "Name: shoe_size, dtype: float64\n"
     ]
    }
   ],
   "source": [
    "print(df.iloc[2:4, 0])"
   ]
  },
  {
   "cell_type": "code",
   "execution_count": 59,
   "metadata": {},
   "outputs": [
    {
     "data": {
      "text/html": [
       "<div>\n",
       "<style scoped>\n",
       "    .dataframe tbody tr th:only-of-type {\n",
       "        vertical-align: middle;\n",
       "    }\n",
       "\n",
       "    .dataframe tbody tr th {\n",
       "        vertical-align: top;\n",
       "    }\n",
       "\n",
       "    .dataframe thead th {\n",
       "        text-align: right;\n",
       "    }\n",
       "</style>\n",
       "<table border=\"1\" class=\"dataframe\">\n",
       "  <thead>\n",
       "    <tr style=\"text-align: right;\">\n",
       "      <th></th>\n",
       "      <th>shoe_size</th>\n",
       "      <th>jersey_size</th>\n",
       "    </tr>\n",
       "  </thead>\n",
       "  <tbody>\n",
       "    <tr>\n",
       "      <th>Ronaldinho</th>\n",
       "      <td>8.547275</td>\n",
       "      <td>92.500983</td>\n",
       "    </tr>\n",
       "    <tr>\n",
       "      <th>Pele</th>\n",
       "      <td>7.927346</td>\n",
       "      <td>80.277155</td>\n",
       "    </tr>\n",
       "    <tr>\n",
       "      <th>Lionel Messi</th>\n",
       "      <td>11.155075</td>\n",
       "      <td>101.037748</td>\n",
       "    </tr>\n",
       "    <tr>\n",
       "      <th>Zinedine Zidane</th>\n",
       "      <td>12.259221</td>\n",
       "      <td>119.224510</td>\n",
       "    </tr>\n",
       "    <tr>\n",
       "      <th>Didier Drogba</th>\n",
       "      <td>9.341725</td>\n",
       "      <td>89.126170</td>\n",
       "    </tr>\n",
       "  </tbody>\n",
       "</table>\n",
       "</div>"
      ],
      "text/plain": [
       "                 shoe_size  jersey_size\n",
       "Ronaldinho        8.547275    92.500983\n",
       "Pele              7.927346    80.277155\n",
       "Lionel Messi     11.155075   101.037748\n",
       "Zinedine Zidane  12.259221   119.224510\n",
       "Didier Drogba     9.341725    89.126170"
      ]
     },
     "execution_count": 59,
     "metadata": {},
     "output_type": "execute_result"
    }
   ],
   "source": [
    "# to see just the top of the DataFrame, use head\n",
    "df.head()"
   ]
  },
  {
   "cell_type": "code",
   "execution_count": 60,
   "metadata": {},
   "outputs": [
    {
     "data": {
      "text/html": [
       "<div>\n",
       "<style scoped>\n",
       "    .dataframe tbody tr th:only-of-type {\n",
       "        vertical-align: middle;\n",
       "    }\n",
       "\n",
       "    .dataframe tbody tr th {\n",
       "        vertical-align: top;\n",
       "    }\n",
       "\n",
       "    .dataframe thead th {\n",
       "        text-align: right;\n",
       "    }\n",
       "</style>\n",
       "<table border=\"1\" class=\"dataframe\">\n",
       "  <thead>\n",
       "    <tr style=\"text-align: right;\">\n",
       "      <th></th>\n",
       "      <th>shoe_size</th>\n",
       "      <th>jersey_size</th>\n",
       "    </tr>\n",
       "  </thead>\n",
       "  <tbody>\n",
       "    <tr>\n",
       "      <th>Mohamed Aboutrika</th>\n",
       "      <td>12.398685</td>\n",
       "      <td>130.554214</td>\n",
       "    </tr>\n",
       "    <tr>\n",
       "      <th>Samuel Eto'o</th>\n",
       "      <td>11.009701</td>\n",
       "      <td>106.614700</td>\n",
       "    </tr>\n",
       "    <tr>\n",
       "      <th>George Best</th>\n",
       "      <td>10.457628</td>\n",
       "      <td>113.897279</td>\n",
       "    </tr>\n",
       "    <tr>\n",
       "      <th>George Weah</th>\n",
       "      <td>9.399821</td>\n",
       "      <td>90.641667</td>\n",
       "    </tr>\n",
       "    <tr>\n",
       "      <th>Roberto Donadoni</th>\n",
       "      <td>9.125251</td>\n",
       "      <td>91.698505</td>\n",
       "    </tr>\n",
       "  </tbody>\n",
       "</table>\n",
       "</div>"
      ],
      "text/plain": [
       "                   shoe_size  jersey_size\n",
       "Mohamed Aboutrika  12.398685   130.554214\n",
       "Samuel Eto'o       11.009701   106.614700\n",
       "George Best        10.457628   113.897279\n",
       "George Weah         9.399821    90.641667\n",
       "Roberto Donadoni    9.125251    91.698505"
      ]
     },
     "execution_count": 60,
     "metadata": {},
     "output_type": "execute_result"
    }
   ],
   "source": [
    "# of for the bottom use tail\n",
    "df.tail()"
   ]
  },
  {
   "cell_type": "markdown",
   "metadata": {},
   "source": [
    "Just as with a `dict`, we can add data to our DataFrame by simply using the same syntax as we would use to retrieve data, but matching it with an assignment."
   ]
  },
  {
   "cell_type": "code",
   "execution_count": 61,
   "metadata": {},
   "outputs": [
    {
     "data": {
      "text/html": [
       "<div>\n",
       "<style scoped>\n",
       "    .dataframe tbody tr th:only-of-type {\n",
       "        vertical-align: middle;\n",
       "    }\n",
       "\n",
       "    .dataframe tbody tr th {\n",
       "        vertical-align: top;\n",
       "    }\n",
       "\n",
       "    .dataframe thead th {\n",
       "        text-align: right;\n",
       "    }\n",
       "</style>\n",
       "<table border=\"1\" class=\"dataframe\">\n",
       "  <thead>\n",
       "    <tr style=\"text-align: right;\">\n",
       "      <th></th>\n",
       "      <th>shoe_size</th>\n",
       "      <th>jersey_size</th>\n",
       "      <th>position</th>\n",
       "    </tr>\n",
       "  </thead>\n",
       "  <tbody>\n",
       "    <tr>\n",
       "      <th>Ronaldinho</th>\n",
       "      <td>8.547275</td>\n",
       "      <td>92.500983</td>\n",
       "      <td>goaltender</td>\n",
       "    </tr>\n",
       "    <tr>\n",
       "      <th>Pele</th>\n",
       "      <td>7.927346</td>\n",
       "      <td>80.277155</td>\n",
       "      <td>defense</td>\n",
       "    </tr>\n",
       "    <tr>\n",
       "      <th>Lionel Messi</th>\n",
       "      <td>11.155075</td>\n",
       "      <td>101.037748</td>\n",
       "      <td>goaltender</td>\n",
       "    </tr>\n",
       "    <tr>\n",
       "      <th>Zinedine Zidane</th>\n",
       "      <td>12.259221</td>\n",
       "      <td>119.224510</td>\n",
       "      <td>defense</td>\n",
       "    </tr>\n",
       "    <tr>\n",
       "      <th>Didier Drogba</th>\n",
       "      <td>9.341725</td>\n",
       "      <td>89.126170</td>\n",
       "      <td>attack</td>\n",
       "    </tr>\n",
       "  </tbody>\n",
       "</table>\n",
       "</div>"
      ],
      "text/plain": [
       "                 shoe_size  jersey_size    position\n",
       "Ronaldinho        8.547275    92.500983  goaltender\n",
       "Pele              7.927346    80.277155     defense\n",
       "Lionel Messi     11.155075   101.037748  goaltender\n",
       "Zinedine Zidane  12.259221   119.224510     defense\n",
       "Didier Drogba     9.341725    89.126170      attack"
      ]
     },
     "execution_count": 61,
     "metadata": {},
     "output_type": "execute_result"
    }
   ],
   "source": [
    "# adding a new column\n",
    "df['position'] = np.random.choice(['goaltender', 'defense', 'midfield', 'attack'], size=len(df))\n",
    "df.head()"
   ]
  },
  {
   "cell_type": "code",
   "execution_count": 62,
   "metadata": {},
   "outputs": [
    {
     "data": {
      "text/plain": [
       "shoe_size             9\n",
       "jersey_size          91\n",
       "position       midfield\n",
       "Name: Dylan, dtype: object"
      ]
     },
     "execution_count": 62,
     "metadata": {},
     "output_type": "execute_result"
    }
   ],
   "source": [
    "# adding a new row\n",
    "df.loc['Dylan'] = {'jersey_size': 91, 'shoe_size': 9, 'position': 'midfield'}\n",
    "df.loc['Dylan']"
   ]
  },
  {
   "cell_type": "markdown",
   "metadata": {},
   "source": [
    "To delete data, we can use the DataFrame's `drop` method."
   ]
  },
  {
   "cell_type": "code",
   "execution_count": 63,
   "metadata": {},
   "outputs": [
    {
     "data": {
      "text/html": [
       "<div>\n",
       "<style scoped>\n",
       "    .dataframe tbody tr th:only-of-type {\n",
       "        vertical-align: middle;\n",
       "    }\n",
       "\n",
       "    .dataframe tbody tr th {\n",
       "        vertical-align: top;\n",
       "    }\n",
       "\n",
       "    .dataframe thead th {\n",
       "        text-align: right;\n",
       "    }\n",
       "</style>\n",
       "<table border=\"1\" class=\"dataframe\">\n",
       "  <thead>\n",
       "    <tr style=\"text-align: right;\">\n",
       "      <th></th>\n",
       "      <th>shoe_size</th>\n",
       "      <th>jersey_size</th>\n",
       "      <th>position</th>\n",
       "    </tr>\n",
       "  </thead>\n",
       "  <tbody>\n",
       "    <tr>\n",
       "      <th>Ronaldinho</th>\n",
       "      <td>8.547275</td>\n",
       "      <td>92.500983</td>\n",
       "      <td>goaltender</td>\n",
       "    </tr>\n",
       "    <tr>\n",
       "      <th>Pele</th>\n",
       "      <td>7.927346</td>\n",
       "      <td>80.277155</td>\n",
       "      <td>defense</td>\n",
       "    </tr>\n",
       "    <tr>\n",
       "      <th>Lionel Messi</th>\n",
       "      <td>11.155075</td>\n",
       "      <td>101.037748</td>\n",
       "      <td>goaltender</td>\n",
       "    </tr>\n",
       "    <tr>\n",
       "      <th>Zinedine Zidane</th>\n",
       "      <td>12.259221</td>\n",
       "      <td>119.224510</td>\n",
       "      <td>defense</td>\n",
       "    </tr>\n",
       "    <tr>\n",
       "      <th>Didier Drogba</th>\n",
       "      <td>9.341725</td>\n",
       "      <td>89.126170</td>\n",
       "      <td>attack</td>\n",
       "    </tr>\n",
       "    <tr>\n",
       "      <th>Ronaldo</th>\n",
       "      <td>8.291408</td>\n",
       "      <td>80.182757</td>\n",
       "      <td>defense</td>\n",
       "    </tr>\n",
       "    <tr>\n",
       "      <th>Yaya Toure</th>\n",
       "      <td>6.312746</td>\n",
       "      <td>65.942012</td>\n",
       "      <td>midfield</td>\n",
       "    </tr>\n",
       "    <tr>\n",
       "      <th>Frank Rijkaard</th>\n",
       "      <td>8.528853</td>\n",
       "      <td>84.751303</td>\n",
       "      <td>midfield</td>\n",
       "    </tr>\n",
       "    <tr>\n",
       "      <th>Diego Maradona</th>\n",
       "      <td>9.829515</td>\n",
       "      <td>97.910820</td>\n",
       "      <td>attack</td>\n",
       "    </tr>\n",
       "    <tr>\n",
       "      <th>Mohamed Aboutrika</th>\n",
       "      <td>12.398685</td>\n",
       "      <td>130.554214</td>\n",
       "      <td>goaltender</td>\n",
       "    </tr>\n",
       "    <tr>\n",
       "      <th>Samuel Eto'o</th>\n",
       "      <td>11.009701</td>\n",
       "      <td>106.614700</td>\n",
       "      <td>defense</td>\n",
       "    </tr>\n",
       "    <tr>\n",
       "      <th>George Best</th>\n",
       "      <td>10.457628</td>\n",
       "      <td>113.897279</td>\n",
       "      <td>midfield</td>\n",
       "    </tr>\n",
       "    <tr>\n",
       "      <th>George Weah</th>\n",
       "      <td>9.399821</td>\n",
       "      <td>90.641667</td>\n",
       "      <td>defense</td>\n",
       "    </tr>\n",
       "    <tr>\n",
       "      <th>Roberto Donadoni</th>\n",
       "      <td>9.125251</td>\n",
       "      <td>91.698505</td>\n",
       "      <td>midfield</td>\n",
       "    </tr>\n",
       "  </tbody>\n",
       "</table>\n",
       "</div>"
      ],
      "text/plain": [
       "                   shoe_size  jersey_size    position\n",
       "Ronaldinho          8.547275    92.500983  goaltender\n",
       "Pele                7.927346    80.277155     defense\n",
       "Lionel Messi       11.155075   101.037748  goaltender\n",
       "Zinedine Zidane    12.259221   119.224510     defense\n",
       "Didier Drogba       9.341725    89.126170      attack\n",
       "Ronaldo             8.291408    80.182757     defense\n",
       "Yaya Toure          6.312746    65.942012    midfield\n",
       "Frank Rijkaard      8.528853    84.751303    midfield\n",
       "Diego Maradona      9.829515    97.910820      attack\n",
       "Mohamed Aboutrika  12.398685   130.554214  goaltender\n",
       "Samuel Eto'o       11.009701   106.614700     defense\n",
       "George Best        10.457628   113.897279    midfield\n",
       "George Weah         9.399821    90.641667     defense\n",
       "Roberto Donadoni    9.125251    91.698505    midfield"
      ]
     },
     "execution_count": 63,
     "metadata": {},
     "output_type": "execute_result"
    }
   ],
   "source": [
    "df.drop('Dylan')"
   ]
  },
  {
   "cell_type": "code",
   "execution_count": 64,
   "metadata": {},
   "outputs": [
    {
     "data": {
      "text/html": [
       "<div>\n",
       "<style scoped>\n",
       "    .dataframe tbody tr th:only-of-type {\n",
       "        vertical-align: middle;\n",
       "    }\n",
       "\n",
       "    .dataframe tbody tr th {\n",
       "        vertical-align: top;\n",
       "    }\n",
       "\n",
       "    .dataframe thead th {\n",
       "        text-align: right;\n",
       "    }\n",
       "</style>\n",
       "<table border=\"1\" class=\"dataframe\">\n",
       "  <thead>\n",
       "    <tr style=\"text-align: right;\">\n",
       "      <th></th>\n",
       "      <th>shoe_size</th>\n",
       "      <th>jersey_size</th>\n",
       "    </tr>\n",
       "  </thead>\n",
       "  <tbody>\n",
       "    <tr>\n",
       "      <th>Ronaldinho</th>\n",
       "      <td>8.547275</td>\n",
       "      <td>92.500983</td>\n",
       "    </tr>\n",
       "    <tr>\n",
       "      <th>Pele</th>\n",
       "      <td>7.927346</td>\n",
       "      <td>80.277155</td>\n",
       "    </tr>\n",
       "    <tr>\n",
       "      <th>Lionel Messi</th>\n",
       "      <td>11.155075</td>\n",
       "      <td>101.037748</td>\n",
       "    </tr>\n",
       "    <tr>\n",
       "      <th>Zinedine Zidane</th>\n",
       "      <td>12.259221</td>\n",
       "      <td>119.224510</td>\n",
       "    </tr>\n",
       "    <tr>\n",
       "      <th>Didier Drogba</th>\n",
       "      <td>9.341725</td>\n",
       "      <td>89.126170</td>\n",
       "    </tr>\n",
       "    <tr>\n",
       "      <th>Ronaldo</th>\n",
       "      <td>8.291408</td>\n",
       "      <td>80.182757</td>\n",
       "    </tr>\n",
       "    <tr>\n",
       "      <th>Yaya Toure</th>\n",
       "      <td>6.312746</td>\n",
       "      <td>65.942012</td>\n",
       "    </tr>\n",
       "    <tr>\n",
       "      <th>Frank Rijkaard</th>\n",
       "      <td>8.528853</td>\n",
       "      <td>84.751303</td>\n",
       "    </tr>\n",
       "    <tr>\n",
       "      <th>Diego Maradona</th>\n",
       "      <td>9.829515</td>\n",
       "      <td>97.910820</td>\n",
       "    </tr>\n",
       "    <tr>\n",
       "      <th>Mohamed Aboutrika</th>\n",
       "      <td>12.398685</td>\n",
       "      <td>130.554214</td>\n",
       "    </tr>\n",
       "    <tr>\n",
       "      <th>Samuel Eto'o</th>\n",
       "      <td>11.009701</td>\n",
       "      <td>106.614700</td>\n",
       "    </tr>\n",
       "    <tr>\n",
       "      <th>George Best</th>\n",
       "      <td>10.457628</td>\n",
       "      <td>113.897279</td>\n",
       "    </tr>\n",
       "    <tr>\n",
       "      <th>George Weah</th>\n",
       "      <td>9.399821</td>\n",
       "      <td>90.641667</td>\n",
       "    </tr>\n",
       "    <tr>\n",
       "      <th>Roberto Donadoni</th>\n",
       "      <td>9.125251</td>\n",
       "      <td>91.698505</td>\n",
       "    </tr>\n",
       "    <tr>\n",
       "      <th>Dylan</th>\n",
       "      <td>9.000000</td>\n",
       "      <td>91.000000</td>\n",
       "    </tr>\n",
       "  </tbody>\n",
       "</table>\n",
       "</div>"
      ],
      "text/plain": [
       "                   shoe_size  jersey_size\n",
       "Ronaldinho          8.547275    92.500983\n",
       "Pele                7.927346    80.277155\n",
       "Lionel Messi       11.155075   101.037748\n",
       "Zinedine Zidane    12.259221   119.224510\n",
       "Didier Drogba       9.341725    89.126170\n",
       "Ronaldo             8.291408    80.182757\n",
       "Yaya Toure          6.312746    65.942012\n",
       "Frank Rijkaard      8.528853    84.751303\n",
       "Diego Maradona      9.829515    97.910820\n",
       "Mohamed Aboutrika  12.398685   130.554214\n",
       "Samuel Eto'o       11.009701   106.614700\n",
       "George Best        10.457628   113.897279\n",
       "George Weah         9.399821    90.641667\n",
       "Roberto Donadoni    9.125251    91.698505\n",
       "Dylan               9.000000    91.000000"
      ]
     },
     "execution_count": 64,
     "metadata": {},
     "output_type": "execute_result"
    }
   ],
   "source": [
    "df.drop('position', axis=1)"
   ]
  },
  {
   "cell_type": "markdown",
   "metadata": {},
   "source": [
    "Notice when we executed `df.drop('position', axis=1)`, there was an entry for `Dylan` even though we had just executed `df.drop('Dylan')`. We have to be careful when using `drop`; many DataFrame functions return a _copy_ of the DataFrame. In order to make the change permanent, we either need to reassign `df` to the copy returned by `df.drop()` or we have to use the keyword `inplace`."
   ]
  },
  {
   "cell_type": "code",
   "execution_count": 65,
   "metadata": {},
   "outputs": [
    {
     "name": "stdout",
     "output_type": "stream",
     "text": [
      "                   shoe_size  jersey_size    position\n",
      "Ronaldinho          8.547275    92.500983  goaltender\n",
      "Pele                7.927346    80.277155     defense\n",
      "Lionel Messi       11.155075   101.037748  goaltender\n",
      "Zinedine Zidane    12.259221   119.224510     defense\n",
      "Didier Drogba       9.341725    89.126170      attack\n",
      "Ronaldo             8.291408    80.182757     defense\n",
      "Yaya Toure          6.312746    65.942012    midfield\n",
      "Frank Rijkaard      8.528853    84.751303    midfield\n",
      "Diego Maradona      9.829515    97.910820      attack\n",
      "Mohamed Aboutrika  12.398685   130.554214  goaltender\n",
      "Samuel Eto'o       11.009701   106.614700     defense\n",
      "George Best        10.457628   113.897279    midfield\n",
      "George Weah         9.399821    90.641667     defense\n",
      "Roberto Donadoni    9.125251    91.698505    midfield\n"
     ]
    }
   ],
   "source": [
    "df = df.drop('Dylan')\n",
    "print(df)"
   ]
  },
  {
   "cell_type": "code",
   "execution_count": 66,
   "metadata": {},
   "outputs": [
    {
     "name": "stdout",
     "output_type": "stream",
     "text": [
      "                   shoe_size  jersey_size\n",
      "Ronaldinho          8.547275    92.500983\n",
      "Pele                7.927346    80.277155\n",
      "Lionel Messi       11.155075   101.037748\n",
      "Zinedine Zidane    12.259221   119.224510\n",
      "Didier Drogba       9.341725    89.126170\n",
      "Ronaldo             8.291408    80.182757\n",
      "Yaya Toure          6.312746    65.942012\n",
      "Frank Rijkaard      8.528853    84.751303\n",
      "Diego Maradona      9.829515    97.910820\n",
      "Mohamed Aboutrika  12.398685   130.554214\n",
      "Samuel Eto'o       11.009701   106.614700\n",
      "George Best        10.457628   113.897279\n",
      "George Weah         9.399821    90.641667\n",
      "Roberto Donadoni    9.125251    91.698505\n"
     ]
    }
   ],
   "source": [
    "df.drop('position', axis=1, inplace=True)\n",
    "print(df)"
   ]
  },
  {
   "cell_type": "markdown",
   "metadata": {},
   "source": [
    "We'll explore Pandas in much more detail later in the course, since it has many powerful tools for data analysis. However, even with these tools you can already start to discover patterns in data and draw interesting conclusions."
   ]
  },
  {
   "cell_type": "markdown",
   "metadata": {},
   "source": [
    "*Copyright &copy; 2020 The Data Incubator.  All rights reserved.*"
   ]
  }
 ],
 "metadata": {
  "kernelspec": {
   "display_name": "Python 3",
   "language": "python",
   "name": "python3"
  },
  "language_info": {
   "codemirror_mode": {
    "name": "ipython",
    "version": 3
   },
   "file_extension": ".py",
   "mimetype": "text/x-python",
   "name": "python",
   "nbconvert_exporter": "python",
   "pygments_lexer": "ipython3",
   "version": "3.7.3"
  },
  "nbclean": true
 },
 "nbformat": 4,
 "nbformat_minor": 1
}
